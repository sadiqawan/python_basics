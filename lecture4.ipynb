{
 "cells": [
  {
   "cell_type": "code",
   "execution_count": 3,
   "metadata": {},
   "outputs": [
    {
     "name": "stdout",
     "output_type": "stream",
     "text": [
      "this is a\n",
      "this is awan\n"
     ]
    }
   ],
   "source": [
    "# slicing of text \n",
    "a = 'this is awan'\n",
    " #form start to till given number of index\n",
    "print(a[:9])\n",
    "\n",
    "#from index 0 to last index\n",
    "print(a[0:])\n",
    "\n",
    "#form index 3 to 5\n",
    "print(a[3:5])"
   ]
  }
 ],
 "metadata": {
  "kernelspec": {
   "display_name": "base",
   "language": "python",
   "name": "python3"
  },
  "language_info": {
   "codemirror_mode": {
    "name": "ipython",
    "version": 3
   },
   "file_extension": ".py",
   "mimetype": "text/x-python",
   "name": "python",
   "nbconvert_exporter": "python",
   "pygments_lexer": "ipython3",
   "version": "3.12.4"
  }
 },
 "nbformat": 4,
 "nbformat_minor": 2
}
