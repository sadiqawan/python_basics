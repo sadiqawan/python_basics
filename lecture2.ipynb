{
 "cells": [
  {
   "cell_type": "code",
   "execution_count": 4,
   "metadata": {},
   "outputs": [
    {
     "name": "stdout",
     "output_type": "stream",
     "text": [
      "<class 'int'>\n",
      "<class 'complex'>\n",
      "<class 'float'>\n"
     ]
    }
   ],
   "source": [
    "# Data types in python \n",
    "# Number type \n",
    "# 1) int 2) float , 3) complex\n",
    "\n",
    "#int\n",
    "a = 20\n",
    "# compelex\n",
    "b = 30j\n",
    "#float\n",
    "c= 40.4\n",
    "\n",
    "\n",
    "print(type(a))\n",
    "print(type(b))\n",
    "print(type(c))\n"
   ]
  },
  {
   "cell_type": "code",
   "execution_count": 7,
   "metadata": {},
   "outputs": [
    {
     "name": "stdout",
     "output_type": "stream",
     "text": [
      "82\n"
     ]
    }
   ],
   "source": [
    "# random number in python\n",
    "# it will select every time random number when it run \n",
    "\n",
    "import random\n",
    "\n",
    "print(random.randrange(10,100))"
   ]
  },
  {
   "cell_type": "code",
   "execution_count": 20,
   "metadata": {},
   "outputs": [
    {
     "name": "stdout",
     "output_type": "stream",
     "text": [
      "<class 'int'> <class 'int'>\n",
      "<class 'int'>\n",
      "<class 'str'> <class 'str'> <class 'str'>\n",
      "<class 'float'> <class 'float'> <class 'float'>\n"
     ]
    }
   ],
   "source": [
    "#casting in python casting use for to define the data of the data or veriable\n",
    "\n",
    "#int type casting\n",
    "a  = int(20)\n",
    "b = int('40')\n",
    "c = int(40.5)\n",
    "\n",
    "print(type(a),type( b), )\n",
    "print(type(c))\n",
    "\n",
    "\n",
    "# string type casitng\n",
    "\n",
    "e =str(20)\n",
    "f =str('30')\n",
    "g =str(20.4)\n",
    "\n",
    "print(type(e),type(f),type(g))\n",
    "\n",
    "\n",
    "#float type casting\n",
    "\n",
    "i = float(200)\n",
    "j = float(400.4)\n",
    "k = float(\"400\")\n",
    "\n",
    "print(type(i), type(j), type(k))\n"
   ]
  }
 ],
 "metadata": {
  "kernelspec": {
   "display_name": "base",
   "language": "python",
   "name": "python3"
  },
  "language_info": {
   "codemirror_mode": {
    "name": "ipython",
    "version": 3
   },
   "file_extension": ".py",
   "mimetype": "text/x-python",
   "name": "python",
   "nbconvert_exporter": "python",
   "pygments_lexer": "ipython3",
   "version": "3.12.4"
  }
 },
 "nbformat": 4,
 "nbformat_minor": 2
}
