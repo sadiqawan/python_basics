{
 "cells": [
  {
   "cell_type": "code",
   "execution_count": 2,
   "metadata": {},
   "outputs": [
    {
     "name": "stdout",
     "output_type": "stream",
     "text": [
      "Hellow , world\n",
      "\n",
      "     This is a Multiline code \n",
      "     we write here\n",
      "     for just check!\n",
      "\n",
      "\n",
      "\n",
      "     This is a Multiline code \n",
      "     we write here\n",
      "     for just check!\n",
      "\n",
      "\n"
     ]
    }
   ],
   "source": [
    "# String data type \n",
    "\n",
    "#assigning string to variable \n",
    "\n",
    "#single line string\n",
    "a = 'Hellow , world'\n",
    "print(a)\n",
    "\n",
    "# Multiline String assignning to variable \n",
    "# We use a  Three Single quats OR Three double quats\n",
    "\n",
    "b = \"\"\"\n",
    "     This is a Multiline code \n",
    "     we write here\n",
    "     for just check!\n",
    "\n",
    "\"\"\"\n",
    "c=  \"\"\"\n",
    "     This is a Multiline code \n",
    "     we write here\n",
    "     for just check!\n",
    "\n",
    "\"\"\"\n",
    "\n",
    "print(b)\n",
    "print(c)\n"
   ]
  },
  {
   "cell_type": "code",
   "execution_count": 10,
   "metadata": {},
   "outputs": [
    {
     "name": "stdout",
     "output_type": "stream",
     "text": [
      "H\n",
      "e\n",
      "l\n",
      "H\n",
      "e\n",
      "l\n",
      "l\n",
      "o\n",
      "w\n",
      " \n",
      "W\n",
      "o\n",
      "r\n",
      "l\n",
      "d\n"
     ]
    }
   ],
   "source": [
    "# String is also work like a array in python \n",
    "# We can accsess by using index\n",
    "\n",
    "d= 'Hellow World'\n",
    "print(d[0])\n",
    "print(d[1])\n",
    "print(d[2])\n",
    "\n",
    "\n",
    "\n",
    "print(\"Loop on string\")\n",
    "#looping on Sting \n",
    "\n",
    "for x in d:\n",
    "    print(x)\n",
    "\n"
   ]
  }
 ],
 "metadata": {
  "kernelspec": {
   "display_name": "base",
   "language": "python",
   "name": "python3"
  },
  "language_info": {
   "codemirror_mode": {
    "name": "ipython",
    "version": 3
   },
   "file_extension": ".py",
   "mimetype": "text/x-python",
   "name": "python",
   "nbconvert_exporter": "python",
   "pygments_lexer": "ipython3",
   "version": "3.12.4"
  }
 },
 "nbformat": 4,
 "nbformat_minor": 2
}
