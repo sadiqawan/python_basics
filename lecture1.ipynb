{
 "cells": [
  {
   "cell_type": "code",
   "execution_count": 3,
   "id": "29f92d13-a524-4aac-83f6-3cd3a3b56478",
   "metadata": {},
   "outputs": [
    {
     "name": "stdout",
     "output_type": "stream",
     "text": [
      "hi this a comment for a comment we use # before the statement\n"
     ]
    }
   ],
   "source": [
    "#for a comment we use # sign \n",
    "#this a comment use for the explaination\n",
    "print('hi this a comment for a comment we use # before the statement')\n"
   ]
  },
  {
   "cell_type": "code",
   "execution_count": 13,
   "id": "76f14f6c-323a-4d1d-a76b-ed5f1d4ddad3",
   "metadata": {},
   "outputs": [
    {
     "name": "stdout",
     "output_type": "stream",
     "text": [
      "this the value of : 3\n",
      "this the value of : 2\n",
      "sum of the x and y : 5\n"
     ]
    }
   ],
   "source": [
    "# variable therse is no such a cleare declearation of variable data type just assign a value\n",
    "x = 3\n",
    "y = 2\n",
    "print(\"this the value of :\",x)\n",
    "print('this the value of :',y)\n",
    "print('sum of the x and y :',x+y)"
   ]
  },
  {
   "cell_type": "code",
   "execution_count": 19,
   "id": "c589a1a3-f961-4d87-8e08-6a5783d693d6",
   "metadata": {},
   "outputs": [
    {
     "name": "stdout",
     "output_type": "stream",
     "text": [
      "Data type of x is : <class 'int'>\n",
      "Data type name is: <class 'str'>\n",
      "Data type city is: <class 'str'>\n"
     ]
    }
   ],
   "source": [
    "# Finding a data type of the variable we can simplly use the type keyword\n",
    "x= 300\n",
    "name = 'jon'\n",
    "city = ' Mardan'\n",
    "\n",
    "\n",
    "\n",
    "print('Data type of x is :',type(x))\n",
    "print('Data type name is:', type(name) )\n",
    "print('Data type city is:', type(city) )"
   ]
  },
  {
   "cell_type": "code",
   "execution_count": 21,
   "id": "1bc5c34a-aa6d-4b13-8544-4a1532b44b42",
   "metadata": {},
   "outputs": [
    {
     "name": "stdout",
     "output_type": "stream",
     "text": [
      "Sadiq awan\n",
      "Muhammad Waseem awan\n"
     ]
    }
   ],
   "source": [
    "# variable name conventional \n",
    "# cannot be aluphanumaric\n",
    "# can not be numaric \n",
    "# can not be start with the keyword\n",
    "\n",
    "_name = 'Sadiq awan'\n",
    "father_name = 'Muhammad Waseem awan'\n",
    "print(_name)\n",
    "print(father_name)"
   ]
  },
  {
   "cell_type": "code",
   "execution_count": 23,
   "id": "c05382db-a338-411b-adbc-bc0083833f40",
   "metadata": {},
   "outputs": [
    {
     "name": "stdout",
     "output_type": "stream",
     "text": [
      "the value of X =  2\n",
      "the value of y =  3\n",
      "the value of z =  4\n"
     ]
    }
   ],
   "source": [
    "# multiple value to multiple variables\n",
    "x, y,z = 2,3,4\n",
    "print ('the value of X = ',x)\n",
    "print ('the value of y = ',y)\n",
    "print ('the value of z = ',z)"
   ]
  },
  {
   "cell_type": "code",
   "execution_count": 25,
   "id": "5ee67138-acd5-47ab-ad90-5b3fa42c2591",
   "metadata": {},
   "outputs": [
    {
     "name": "stdout",
     "output_type": "stream",
     "text": [
      "['ABC', 'DEF', 'GHQ']\n",
      "the value of X =  ABC\n",
      "the value of y =  DEF\n",
      "the value of z =  GHQ\n"
     ]
    }
   ],
   "source": [
    "# unpacking collection if you have collection of vlaues like list or tuple then you can easy assgin to variable \n",
    "#forexample\n",
    "\n",
    "cars = ['ABC', 'DEF', 'GHQ']\n",
    "x,y,z = cars\n",
    "print(cars)\n",
    "print ('the value of X = ',x)\n",
    "print ('the value of y = ',y)\n",
    "print ('the value of z = ',z)\n"
   ]
  },
  {
   "cell_type": "code",
   "execution_count": 39,
   "id": "dcc6c824-f10a-4474-b107-7a771dc2b76b",
   "metadata": {},
   "outputs": [
    {
     "name": "stdout",
     "output_type": "stream",
     "text": [
      "Sadiq Awan\n",
      "Muhammad\n"
     ]
    }
   ],
   "source": [
    "# A Variable may define inside or Out side the function \n",
    "# if inside the fucntion the we called it local variable \n",
    "# if out side the fuction we called it global variable we can accsess everywhere you want \n",
    "\n",
    "\n",
    "#variable decl\n",
    "name = 'Sadiq Awan'\n",
    "\n",
    "#funtion decl\n",
    "def myFunction() :\n",
    "    #access global variable\n",
    "    print(name)\n",
    "    #creating local variable\n",
    "    brother_name= 'Muhammad'\n",
    "    #if you want to create a variable from local to global then use key word global before the dec of variable\n",
    "    global brother\n",
    "    brother = brother_name\n",
    "\n",
    "\n",
    "#Calling function\n",
    "myFunction()\n",
    "\n",
    "#it will give you error\n",
    "#print(brother_name)\n",
    "\n",
    "print(brother)\n",
    "\n",
    "\n"
   ]
  },
  {
   "cell_type": "code",
   "execution_count": null,
   "id": "87e0efb2-ac51-4e74-8320-38775a3d4622",
   "metadata": {},
   "outputs": [],
   "source": []
  }
 ],
 "metadata": {
  "kernelspec": {
   "display_name": "Python 3 (ipykernel)",
   "language": "python",
   "name": "python3"
  },
  "language_info": {
   "codemirror_mode": {
    "name": "ipython",
    "version": 3
   },
   "file_extension": ".py",
   "mimetype": "text/x-python",
   "name": "python",
   "nbconvert_exporter": "python",
   "pygments_lexer": "ipython3",
   "version": "3.12.4"
  }
 },
 "nbformat": 4,
 "nbformat_minor": 5
}
